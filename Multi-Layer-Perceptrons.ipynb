{
 "cells": [
  {
   "cell_type": "markdown",
   "metadata": {},
   "source": [
    "# Multilayer Perceptrons"
   ]
  },
  {
   "cell_type": "markdown",
   "metadata": {},
   "source": [
    "### A Perceptron is a single neuron model that was a precursor to larger neural networks. It is a field of study that investigates how simple models of biological brains can be used to solve difficult computational tasks like the predictive modeling tasks we see in machine learning. The goal is not to create realistic models of the brain, but instead to develop robust algorithms and data structures that we can use to model difficult problems."
   ]
  },
  {
   "cell_type": "markdown",
   "metadata": {},
   "source": [
    "## Neuron Weights"
   ]
  },
  {
   "cell_type": "markdown",
   "metadata": {},
   "source": [
    "### You may be familiar with linear regression, in which case the weights on the inputs are very much like the coefficients used in a regression equation. Like linear regression, each neuron also has a bias which can be thought of as an input that always has the value 1.0 and it too must be weighted. For example, a neuron may have two inputs in which case it requires three weights. One for each input and one for the bias."
   ]
  },
  {
   "cell_type": "markdown",
   "metadata": {},
   "source": [
    "### Weights are often initialized to small random values, such as values in the range 0 to 0.3, although more complex initialization schemes can be used. Like linear regression, larger weights indicate increased complexity and fragility of the model. It is desirable to keep weights in the network small and regularization techniques can be used."
   ]
  },
  {
   "cell_type": "markdown",
   "metadata": {},
   "source": [
    "## Activation"
   ]
  },
  {
   "cell_type": "markdown",
   "metadata": {},
   "source": [
    "### The weighted inputs are summed and passed through an activation function, sometimes called a transfer function. An activation function is a simple mapping of summed weighted input to the output of the neuron. It is called an activation function because it governs the threshold at which the neuron is activated and the strength of the output signal. Historically simple step activation functions were used where if the summed input was above a threshold, for example 0.5, then the neuron would output a value of 1.0, otherwise it would output a 0.0."
   ]
  },
  {
   "cell_type": "markdown",
   "metadata": {},
   "source": [
    "### Nonlinear functions like the logistic function also called the sigmoid function were used that output a value between 0 and 1 with an s-shaped distribution, and the hyperbolic tangent function also called Tanh that outputs the same distribution over the range -1 to +1. More recently the rectifier activation function has been shown to provide better results."
   ]
  },
  {
   "cell_type": "markdown",
   "metadata": {},
   "source": [
    "## Networks of Neurons"
   ]
  },
  {
   "cell_type": "markdown",
   "metadata": {},
   "source": [
    "### Neurons are arranged into networks of neurons. A row of neurons is called a layer and one network can have multiple layers. The architecture of the neurons in the network is often called the network topology."
   ]
  },
  {
   "cell_type": "markdown",
   "metadata": {},
   "source": [
    "## Input or Visible Layers"
   ]
  },
  {
   "cell_type": "markdown",
   "metadata": {},
   "source": [
    "### The bottom layer that takes input from your dataset is called the visible layer, because it is the exposed part of the network. Often a neural network is drawn with a visible layer with one neuron per input value or column in your dataset. These are not neurons as described above, but simply pass the input value though to the next layer."
   ]
  },
  {
   "cell_type": "markdown",
   "metadata": {},
   "source": [
    "## Hidden Layers"
   ]
  },
  {
   "cell_type": "markdown",
   "metadata": {},
   "source": [
    "### Layers after the input layer are called hidden layers because they are not directly exposed to the input. The simplest network structure is to have a single neuron in the hidden layer that directly outputs the value. Given increases in computing power and efficient libraries, very deep neural networks can be constructed. Deep learning can refer to having many hidden layers in your neural network. They are deep because they would have been unimaginably slow to train historically, but may take seconds or minutes to train using modern techniques and hardware."
   ]
  },
  {
   "cell_type": "markdown",
   "metadata": {},
   "source": [
    "## Output Layer"
   ]
  },
  {
   "cell_type": "markdown",
   "metadata": {},
   "source": [
    "### The final hidden layer is called the output layer and it is responsible for outputting a value or vector of values that correspond to the format required for the problem. The choice of activation function in the output layer is strongly constrained by the type of problem that you are modeling. For example:\n",
    "\n",
    "* A regression problem may have a single output neuron and the neuron may have no activation function.\n",
    "* A binary classification problem may have a single output neuron and use a sigmoid activation function to output a value between 0 and 1 to represent the probability of predicting a value for the primary class. This can be turned into a crisp class value by using a threshold of 0.5 and snap values less than the threshold to 0 otherwise to 1.\n",
    "* A multiclass classification problem may have multiple neurons in the output layer, one for each class (e.g. three neurons for the three classes in the famous iris flowers classification problem). In this case a softmax activation function may be used to output a probability of the network predicting each of the class values. Selecting the output with the highest probability can be used to produce a crisp class classification value."
   ]
  },
  {
   "cell_type": "markdown",
   "metadata": {},
   "source": [
    "## Stochastic Gradient Descent"
   ]
  },
  {
   "cell_type": "markdown",
   "metadata": {},
   "source": [
    "### The classical and still preferred training algorithm for neural networks is called stochastic gradient descent. This is where one row of data is exposed to the network at a time as input. The network processes the input upward activating neurons as it goes to finally produce an output value. This is called a forward pass on the network. It is the type of pass that is also used after the network is trained in order to make predictions on new data. The output of the network is compared to the expected output and an error is calculated. This error is then propagated back through the network, one layer at a time, and the weights are updated according to the amount that they contributed to the error."
   ]
  },
  {
   "cell_type": "markdown",
   "metadata": {},
   "source": [
    "## Weight Updates"
   ]
  },
  {
   "cell_type": "markdown",
   "metadata": {},
   "source": [
    "### The weights in the network can be updated from the errors calculated for each training example and this is called online learning. It can result in fast but also chaotic changes to the network.\n",
    "\n",
    "### Alternatively, the errors can be saved up across all of the training examples and the network can be updated at the end. This is called batch learning and is often more stable.Because datasets are so large and because of computational efficiencies, the size of the batch, the number of examples the network is shown before an update is often reduced to a small number, such as tens or hundreds of examples. The amount that weights are updated is controlled by a configuration parameter called the learning rate. It is also called the step size and controls the step or change made to network weights for a given error. Often small learning rates are used such as 0.1 or 0.01 or smaller. The update equation can be complemented with additional configuration terms that you can set.\n",
    "\n",
    "* Momentum is a term that incorporates the properties from the previous weight update to allow the weights to continue to change in the same direction even when there is less error being calculated.\n",
    "* Learning Rate Decay is used to decrease the learning rate over epochs to allow the network to make large changes to the weights at the beginning and smaller fine tuning changes later in the training schedule.\n"
   ]
  },
  {
   "cell_type": "markdown",
   "metadata": {},
   "source": [
    "## Develop Your First Neural Network With Keras"
   ]
  },
  {
   "cell_type": "markdown",
   "metadata": {},
   "source": [
    "### Define Model"
   ]
  },
  {
   "cell_type": "code",
   "execution_count": 2,
   "metadata": {},
   "outputs": [],
   "source": [
    "FILENAME = \"data/pima-indians-diabetes.csv\""
   ]
  },
  {
   "cell_type": "code",
   "execution_count": 20,
   "metadata": {},
   "outputs": [
    {
     "name": "stderr",
     "output_type": "stream",
     "text": [
      "2024-04-08 11:58:26.627580: W tensorflow/core/platform/profile_utils/cpu_utils.cc:128] Failed to get CPU frequency: 0 Hz\n"
     ]
    },
    {
     "name": "stdout",
     "output_type": "stream",
     "text": [
      "77/77 [==============================] - 0s 462us/step - loss: 10.3252 - accuracy: 0.6263\n",
      "24/24 [==============================] - 0s 362us/step - loss: 2.6326 - accuracy: 0.4792\n",
      "accuracy: 47.92%\n"
     ]
    }
   ],
   "source": [
    "\n",
    "# Create your first MLP in Keras\n",
    "from keras.models import Sequential\n",
    "from keras.layers import Dense\n",
    "import numpy\n",
    "import pandas as pd\n",
    "# fix random seed for reproducibility\n",
    "seed = 7\n",
    "numpy.random.seed(seed)\n",
    "# load pima indians dataset\n",
    "\n",
    "df = pd.read_csv(FILENAME)\n",
    "\n",
    "last_ix = len(df.columns)-1\n",
    "X, y = df.drop(df.columns[last_ix], axis=1), df[df.columns[last_ix]]\n",
    "\n",
    "# create model\n",
    "model = Sequential()\n",
    "model.add(Dense(12, input_dim=X.shape[1], activation= 'relu' ))\n",
    "model.add(Dense(8, activation= 'relu' ))\n",
    "model.add(Dense(1,activation= 'sigmoid' ))\n",
    "# Compile model\n",
    "model.compile(loss= 'binary_crossentropy' , optimizer= 'adam' , metrics=[ 'accuracy' ])\n",
    "# Fit the model\n",
    "model.fit(X, y, batch_size=10,epochs=150)\n",
    "# evaluate the model\n",
    "scores = model.evaluate(X, y)\n",
    "print(\"%s: %.2f%%\" % (model.metrics_names[1], scores[1]*100))"
   ]
  },
  {
   "cell_type": "markdown",
   "metadata": {},
   "source": [
    "## Evaluate The Performance of Deep Learning Models"
   ]
  },
  {
   "cell_type": "code",
   "execution_count": 24,
   "metadata": {},
   "outputs": [
    {
     "name": "stdout",
     "output_type": "stream",
     "text": [
      "Epoch 1/150\n",
      "52/52 [==============================] - 0s 2ms/step - loss: 25.5088 - accuracy: 0.3599 - val_loss: 7.6615 - val_accuracy: 0.3465\n",
      "Epoch 2/150\n",
      "52/52 [==============================] - 0s 781us/step - loss: 2.5704 - accuracy: 0.5272 - val_loss: 1.9051 - val_accuracy: 0.4134\n",
      "Epoch 3/150\n",
      "52/52 [==============================] - 0s 743us/step - loss: 1.5849 - accuracy: 0.5272 - val_loss: 1.6700 - val_accuracy: 0.4921\n",
      "Epoch 4/150\n",
      "52/52 [==============================] - 0s 726us/step - loss: 1.3758 - accuracy: 0.5486 - val_loss: 1.5292 - val_accuracy: 0.4764\n",
      "Epoch 5/150\n",
      "52/52 [==============================] - 0s 683us/step - loss: 1.2637 - accuracy: 0.5623 - val_loss: 1.4166 - val_accuracy: 0.5748\n",
      "Epoch 6/150\n",
      "52/52 [==============================] - 0s 691us/step - loss: 1.1248 - accuracy: 0.5642 - val_loss: 1.2817 - val_accuracy: 0.5000\n",
      "Epoch 7/150\n",
      "52/52 [==============================] - 0s 683us/step - loss: 1.0343 - accuracy: 0.5914 - val_loss: 1.1783 - val_accuracy: 0.4961\n",
      "Epoch 8/150\n",
      "52/52 [==============================] - 0s 677us/step - loss: 0.9459 - accuracy: 0.6031 - val_loss: 1.1434 - val_accuracy: 0.4764\n",
      "Epoch 9/150\n",
      "52/52 [==============================] - 0s 682us/step - loss: 0.8928 - accuracy: 0.6323 - val_loss: 1.0800 - val_accuracy: 0.4567\n",
      "Epoch 10/150\n",
      "52/52 [==============================] - 0s 702us/step - loss: 0.8382 - accuracy: 0.6109 - val_loss: 0.9956 - val_accuracy: 0.4646\n",
      "Epoch 11/150\n",
      "52/52 [==============================] - 0s 820us/step - loss: 0.8106 - accuracy: 0.6362 - val_loss: 0.9238 - val_accuracy: 0.6220\n",
      "Epoch 12/150\n",
      "52/52 [==============================] - 0s 727us/step - loss: 0.7589 - accuracy: 0.6459 - val_loss: 0.9539 - val_accuracy: 0.4213\n",
      "Epoch 13/150\n",
      "52/52 [==============================] - 0s 694us/step - loss: 0.7632 - accuracy: 0.6323 - val_loss: 0.8355 - val_accuracy: 0.5945\n",
      "Epoch 14/150\n",
      "52/52 [==============================] - 0s 694us/step - loss: 0.7100 - accuracy: 0.6537 - val_loss: 0.8330 - val_accuracy: 0.6417\n",
      "Epoch 15/150\n",
      "52/52 [==============================] - 0s 779us/step - loss: 0.7063 - accuracy: 0.6732 - val_loss: 0.8256 - val_accuracy: 0.6654\n",
      "Epoch 16/150\n",
      "52/52 [==============================] - 0s 823us/step - loss: 0.7683 - accuracy: 0.6362 - val_loss: 0.7820 - val_accuracy: 0.5669\n",
      "Epoch 17/150\n",
      "52/52 [==============================] - 0s 796us/step - loss: 0.7428 - accuracy: 0.6420 - val_loss: 0.8803 - val_accuracy: 0.5197\n",
      "Epoch 18/150\n",
      "52/52 [==============================] - 0s 781us/step - loss: 0.6638 - accuracy: 0.6790 - val_loss: 0.7315 - val_accuracy: 0.6575\n",
      "Epoch 19/150\n",
      "52/52 [==============================] - 0s 785us/step - loss: 0.6531 - accuracy: 0.6790 - val_loss: 0.7269 - val_accuracy: 0.6535\n",
      "Epoch 20/150\n",
      "52/52 [==============================] - 0s 799us/step - loss: 0.6553 - accuracy: 0.6829 - val_loss: 0.7098 - val_accuracy: 0.6457\n",
      "Epoch 21/150\n",
      "52/52 [==============================] - 0s 743us/step - loss: 0.6343 - accuracy: 0.6809 - val_loss: 0.7755 - val_accuracy: 0.5276\n",
      "Epoch 22/150\n",
      "52/52 [==============================] - 0s 687us/step - loss: 0.6580 - accuracy: 0.6770 - val_loss: 0.7056 - val_accuracy: 0.6693\n",
      "Epoch 23/150\n",
      "52/52 [==============================] - 0s 669us/step - loss: 0.6189 - accuracy: 0.7062 - val_loss: 0.6941 - val_accuracy: 0.6220\n",
      "Epoch 24/150\n",
      "52/52 [==============================] - 0s 685us/step - loss: 0.6249 - accuracy: 0.6926 - val_loss: 0.7200 - val_accuracy: 0.6102\n",
      "Epoch 25/150\n",
      "52/52 [==============================] - 0s 669us/step - loss: 0.6366 - accuracy: 0.7179 - val_loss: 0.6639 - val_accuracy: 0.6929\n",
      "Epoch 26/150\n",
      "52/52 [==============================] - 0s 683us/step - loss: 0.6082 - accuracy: 0.7198 - val_loss: 0.6606 - val_accuracy: 0.6614\n",
      "Epoch 27/150\n",
      "52/52 [==============================] - 0s 679us/step - loss: 0.6001 - accuracy: 0.7198 - val_loss: 0.6481 - val_accuracy: 0.6614\n",
      "Epoch 28/150\n",
      "52/52 [==============================] - 0s 678us/step - loss: 0.5992 - accuracy: 0.7257 - val_loss: 0.6445 - val_accuracy: 0.6614\n",
      "Epoch 29/150\n",
      "52/52 [==============================] - 0s 678us/step - loss: 0.6099 - accuracy: 0.7237 - val_loss: 0.7616 - val_accuracy: 0.5827\n",
      "Epoch 30/150\n",
      "52/52 [==============================] - 0s 938us/step - loss: 0.6510 - accuracy: 0.6907 - val_loss: 0.7890 - val_accuracy: 0.4764\n",
      "Epoch 31/150\n",
      "52/52 [==============================] - 0s 680us/step - loss: 0.6116 - accuracy: 0.7023 - val_loss: 0.6556 - val_accuracy: 0.6299\n",
      "Epoch 32/150\n",
      "52/52 [==============================] - 0s 719us/step - loss: 0.6059 - accuracy: 0.7101 - val_loss: 0.6373 - val_accuracy: 0.6890\n",
      "Epoch 33/150\n",
      "52/52 [==============================] - 0s 672us/step - loss: 0.6109 - accuracy: 0.7101 - val_loss: 0.7022 - val_accuracy: 0.6181\n",
      "Epoch 34/150\n",
      "52/52 [==============================] - 0s 668us/step - loss: 0.6129 - accuracy: 0.6907 - val_loss: 0.6512 - val_accuracy: 0.6496\n",
      "Epoch 35/150\n",
      "52/52 [==============================] - 0s 675us/step - loss: 0.6013 - accuracy: 0.7140 - val_loss: 0.6205 - val_accuracy: 0.6929\n",
      "Epoch 36/150\n",
      "52/52 [==============================] - 0s 668us/step - loss: 0.5877 - accuracy: 0.7082 - val_loss: 0.6362 - val_accuracy: 0.6614\n",
      "Epoch 37/150\n",
      "52/52 [==============================] - 0s 676us/step - loss: 0.5890 - accuracy: 0.7043 - val_loss: 0.6119 - val_accuracy: 0.6969\n",
      "Epoch 38/150\n",
      "52/52 [==============================] - 0s 680us/step - loss: 0.5813 - accuracy: 0.7276 - val_loss: 0.6199 - val_accuracy: 0.6811\n",
      "Epoch 39/150\n",
      "52/52 [==============================] - 0s 665us/step - loss: 0.5984 - accuracy: 0.7121 - val_loss: 0.5980 - val_accuracy: 0.6890\n",
      "Epoch 40/150\n",
      "52/52 [==============================] - 0s 657us/step - loss: 0.5756 - accuracy: 0.7198 - val_loss: 0.6231 - val_accuracy: 0.6811\n",
      "Epoch 41/150\n",
      "52/52 [==============================] - 0s 662us/step - loss: 0.5806 - accuracy: 0.7179 - val_loss: 0.6162 - val_accuracy: 0.6772\n",
      "Epoch 42/150\n",
      "52/52 [==============================] - 0s 667us/step - loss: 0.5788 - accuracy: 0.7218 - val_loss: 0.6618 - val_accuracy: 0.6142\n",
      "Epoch 43/150\n",
      "52/52 [==============================] - 0s 657us/step - loss: 0.5853 - accuracy: 0.7179 - val_loss: 0.6467 - val_accuracy: 0.6850\n",
      "Epoch 44/150\n",
      "52/52 [==============================] - 0s 672us/step - loss: 0.5915 - accuracy: 0.7198 - val_loss: 0.6168 - val_accuracy: 0.6850\n",
      "Epoch 45/150\n",
      "52/52 [==============================] - 0s 717us/step - loss: 0.5712 - accuracy: 0.7393 - val_loss: 0.5865 - val_accuracy: 0.6850\n",
      "Epoch 46/150\n",
      "52/52 [==============================] - 0s 669us/step - loss: 0.5877 - accuracy: 0.7062 - val_loss: 0.5863 - val_accuracy: 0.7283\n",
      "Epoch 47/150\n",
      "52/52 [==============================] - 0s 667us/step - loss: 0.5843 - accuracy: 0.7101 - val_loss: 0.6110 - val_accuracy: 0.7047\n",
      "Epoch 48/150\n",
      "52/52 [==============================] - 0s 674us/step - loss: 0.5637 - accuracy: 0.7237 - val_loss: 0.5897 - val_accuracy: 0.6929\n",
      "Epoch 49/150\n",
      "52/52 [==============================] - 0s 665us/step - loss: 0.5691 - accuracy: 0.7374 - val_loss: 0.6125 - val_accuracy: 0.6850\n",
      "Epoch 50/150\n",
      "52/52 [==============================] - 0s 675us/step - loss: 0.5717 - accuracy: 0.7198 - val_loss: 0.6065 - val_accuracy: 0.7165\n",
      "Epoch 51/150\n",
      "52/52 [==============================] - 0s 667us/step - loss: 0.5638 - accuracy: 0.7179 - val_loss: 0.6054 - val_accuracy: 0.6969\n",
      "Epoch 52/150\n",
      "52/52 [==============================] - 0s 684us/step - loss: 0.5631 - accuracy: 0.7335 - val_loss: 0.5813 - val_accuracy: 0.6969\n",
      "Epoch 53/150\n",
      "52/52 [==============================] - 0s 685us/step - loss: 0.5640 - accuracy: 0.7257 - val_loss: 0.5849 - val_accuracy: 0.6575\n",
      "Epoch 54/150\n",
      "52/52 [==============================] - 0s 665us/step - loss: 0.5691 - accuracy: 0.7296 - val_loss: 0.6095 - val_accuracy: 0.7165\n",
      "Epoch 55/150\n",
      "52/52 [==============================] - 0s 686us/step - loss: 0.5667 - accuracy: 0.7315 - val_loss: 0.5825 - val_accuracy: 0.7008\n",
      "Epoch 56/150\n",
      "52/52 [==============================] - 0s 658us/step - loss: 0.5641 - accuracy: 0.7218 - val_loss: 0.5774 - val_accuracy: 0.6890\n",
      "Epoch 57/150\n",
      "52/52 [==============================] - 0s 688us/step - loss: 0.5976 - accuracy: 0.6907 - val_loss: 0.5695 - val_accuracy: 0.7205\n",
      "Epoch 58/150\n",
      "52/52 [==============================] - 0s 680us/step - loss: 0.5547 - accuracy: 0.7490 - val_loss: 0.5803 - val_accuracy: 0.7047\n",
      "Epoch 59/150\n",
      "52/52 [==============================] - 0s 670us/step - loss: 0.5713 - accuracy: 0.7257 - val_loss: 0.6165 - val_accuracy: 0.6969\n",
      "Epoch 60/150\n",
      "52/52 [==============================] - 0s 654us/step - loss: 0.5703 - accuracy: 0.7296 - val_loss: 0.5845 - val_accuracy: 0.6890\n",
      "Epoch 61/150\n",
      "52/52 [==============================] - 0s 716us/step - loss: 0.5407 - accuracy: 0.7451 - val_loss: 0.6113 - val_accuracy: 0.7087\n",
      "Epoch 62/150\n",
      "52/52 [==============================] - 0s 686us/step - loss: 0.5781 - accuracy: 0.7121 - val_loss: 0.5891 - val_accuracy: 0.7047\n",
      "Epoch 63/150\n",
      "52/52 [==============================] - 0s 684us/step - loss: 0.5574 - accuracy: 0.7218 - val_loss: 0.5795 - val_accuracy: 0.6811\n",
      "Epoch 64/150\n",
      "52/52 [==============================] - 0s 665us/step - loss: 0.5666 - accuracy: 0.7237 - val_loss: 0.5707 - val_accuracy: 0.7205\n",
      "Epoch 65/150\n",
      "52/52 [==============================] - 0s 669us/step - loss: 0.5425 - accuracy: 0.7276 - val_loss: 0.5713 - val_accuracy: 0.7047\n",
      "Epoch 66/150\n",
      "52/52 [==============================] - 0s 651us/step - loss: 0.5575 - accuracy: 0.7218 - val_loss: 0.5885 - val_accuracy: 0.6969\n",
      "Epoch 67/150\n",
      "52/52 [==============================] - 0s 666us/step - loss: 0.5725 - accuracy: 0.7276 - val_loss: 0.6145 - val_accuracy: 0.7087\n",
      "Epoch 68/150\n",
      "52/52 [==============================] - 0s 654us/step - loss: 0.5601 - accuracy: 0.7296 - val_loss: 0.5913 - val_accuracy: 0.6772\n",
      "Epoch 69/150\n",
      "52/52 [==============================] - 0s 673us/step - loss: 0.5611 - accuracy: 0.7237 - val_loss: 0.5948 - val_accuracy: 0.7087\n",
      "Epoch 70/150\n",
      "52/52 [==============================] - 0s 662us/step - loss: 0.5445 - accuracy: 0.7471 - val_loss: 0.5690 - val_accuracy: 0.7480\n",
      "Epoch 71/150\n",
      "52/52 [==============================] - 0s 659us/step - loss: 0.5481 - accuracy: 0.7412 - val_loss: 0.5549 - val_accuracy: 0.7205\n",
      "Epoch 72/150\n",
      "52/52 [==============================] - 0s 670us/step - loss: 0.5657 - accuracy: 0.7218 - val_loss: 0.6179 - val_accuracy: 0.6535\n",
      "Epoch 73/150\n",
      "52/52 [==============================] - 0s 671us/step - loss: 0.5629 - accuracy: 0.7179 - val_loss: 0.5764 - val_accuracy: 0.6811\n",
      "Epoch 74/150\n",
      "52/52 [==============================] - 0s 652us/step - loss: 0.5351 - accuracy: 0.7490 - val_loss: 0.5695 - val_accuracy: 0.6969\n",
      "Epoch 75/150\n",
      "52/52 [==============================] - 0s 663us/step - loss: 0.5297 - accuracy: 0.7412 - val_loss: 0.5492 - val_accuracy: 0.7165\n",
      "Epoch 76/150\n",
      "52/52 [==============================] - 0s 1ms/step - loss: 0.5581 - accuracy: 0.7315 - val_loss: 0.5657 - val_accuracy: 0.7165\n",
      "Epoch 77/150\n",
      "52/52 [==============================] - 0s 683us/step - loss: 0.5506 - accuracy: 0.7315 - val_loss: 0.5549 - val_accuracy: 0.7283\n",
      "Epoch 78/150\n",
      "52/52 [==============================] - 0s 652us/step - loss: 0.5574 - accuracy: 0.7296 - val_loss: 0.5585 - val_accuracy: 0.7402\n",
      "Epoch 79/150\n",
      "52/52 [==============================] - 0s 674us/step - loss: 0.5390 - accuracy: 0.7374 - val_loss: 0.5965 - val_accuracy: 0.7087\n",
      "Epoch 80/150\n",
      "52/52 [==============================] - 0s 661us/step - loss: 0.5798 - accuracy: 0.7237 - val_loss: 0.5557 - val_accuracy: 0.7480\n",
      "Epoch 81/150\n",
      "52/52 [==============================] - 0s 667us/step - loss: 0.5237 - accuracy: 0.7529 - val_loss: 0.6479 - val_accuracy: 0.6929\n",
      "Epoch 82/150\n",
      "52/52 [==============================] - 0s 658us/step - loss: 0.5398 - accuracy: 0.7490 - val_loss: 0.5595 - val_accuracy: 0.7441\n",
      "Epoch 83/150\n",
      "52/52 [==============================] - 0s 668us/step - loss: 0.5350 - accuracy: 0.7529 - val_loss: 0.5567 - val_accuracy: 0.7126\n",
      "Epoch 84/150\n",
      "52/52 [==============================] - 0s 666us/step - loss: 0.5726 - accuracy: 0.7315 - val_loss: 0.5406 - val_accuracy: 0.7323\n",
      "Epoch 85/150\n",
      "52/52 [==============================] - 0s 658us/step - loss: 0.5430 - accuracy: 0.7471 - val_loss: 0.6126 - val_accuracy: 0.6693\n",
      "Epoch 86/150\n",
      "52/52 [==============================] - 0s 657us/step - loss: 0.5520 - accuracy: 0.7276 - val_loss: 0.5594 - val_accuracy: 0.7402\n",
      "Epoch 87/150\n",
      "52/52 [==============================] - 0s 667us/step - loss: 0.5271 - accuracy: 0.7432 - val_loss: 0.5800 - val_accuracy: 0.7362\n",
      "Epoch 88/150\n",
      "52/52 [==============================] - 0s 673us/step - loss: 0.5335 - accuracy: 0.7335 - val_loss: 0.5556 - val_accuracy: 0.7402\n",
      "Epoch 89/150\n",
      "52/52 [==============================] - 0s 681us/step - loss: 0.5506 - accuracy: 0.7335 - val_loss: 0.5546 - val_accuracy: 0.7087\n",
      "Epoch 90/150\n",
      "52/52 [==============================] - 0s 661us/step - loss: 0.5170 - accuracy: 0.7685 - val_loss: 0.5792 - val_accuracy: 0.7244\n",
      "Epoch 91/150\n",
      "52/52 [==============================] - 0s 675us/step - loss: 0.5320 - accuracy: 0.7412 - val_loss: 0.5685 - val_accuracy: 0.7087\n",
      "Epoch 92/150\n",
      "52/52 [==============================] - 0s 665us/step - loss: 0.5357 - accuracy: 0.7315 - val_loss: 0.7018 - val_accuracy: 0.5748\n",
      "Epoch 93/150\n",
      "52/52 [==============================] - 0s 649us/step - loss: 0.5598 - accuracy: 0.7393 - val_loss: 0.6182 - val_accuracy: 0.6811\n",
      "Epoch 94/150\n",
      "52/52 [==============================] - 0s 673us/step - loss: 0.5360 - accuracy: 0.7471 - val_loss: 0.5805 - val_accuracy: 0.6890\n",
      "Epoch 95/150\n",
      "52/52 [==============================] - 0s 656us/step - loss: 0.5284 - accuracy: 0.7335 - val_loss: 0.5421 - val_accuracy: 0.7402\n",
      "Epoch 96/150\n",
      "52/52 [==============================] - 0s 657us/step - loss: 0.5287 - accuracy: 0.7471 - val_loss: 0.5616 - val_accuracy: 0.7087\n",
      "Epoch 97/150\n",
      "52/52 [==============================] - 0s 658us/step - loss: 0.5454 - accuracy: 0.7315 - val_loss: 0.5866 - val_accuracy: 0.6890\n",
      "Epoch 98/150\n",
      "52/52 [==============================] - 0s 659us/step - loss: 0.5457 - accuracy: 0.7393 - val_loss: 0.5993 - val_accuracy: 0.7126\n",
      "Epoch 99/150\n",
      "52/52 [==============================] - 0s 658us/step - loss: 0.5352 - accuracy: 0.7296 - val_loss: 0.5362 - val_accuracy: 0.7362\n",
      "Epoch 100/150\n",
      "52/52 [==============================] - 0s 834us/step - loss: 0.5151 - accuracy: 0.7451 - val_loss: 0.6704 - val_accuracy: 0.6890\n",
      "Epoch 101/150\n",
      "52/52 [==============================] - 0s 675us/step - loss: 0.5615 - accuracy: 0.7335 - val_loss: 0.5808 - val_accuracy: 0.7126\n",
      "Epoch 102/150\n",
      "52/52 [==============================] - 0s 679us/step - loss: 0.5472 - accuracy: 0.7374 - val_loss: 0.6670 - val_accuracy: 0.6181\n",
      "Epoch 103/150\n",
      "52/52 [==============================] - 0s 696us/step - loss: 0.5302 - accuracy: 0.7315 - val_loss: 0.5567 - val_accuracy: 0.7402\n",
      "Epoch 104/150\n",
      "52/52 [==============================] - 0s 662us/step - loss: 0.5228 - accuracy: 0.7451 - val_loss: 0.5872 - val_accuracy: 0.7205\n",
      "Epoch 105/150\n",
      "52/52 [==============================] - 0s 674us/step - loss: 0.5340 - accuracy: 0.7354 - val_loss: 0.5870 - val_accuracy: 0.7165\n",
      "Epoch 106/150\n",
      "52/52 [==============================] - 0s 673us/step - loss: 0.5526 - accuracy: 0.7179 - val_loss: 0.7312 - val_accuracy: 0.6614\n",
      "Epoch 107/150\n",
      "52/52 [==============================] - 0s 673us/step - loss: 0.5501 - accuracy: 0.7198 - val_loss: 0.5828 - val_accuracy: 0.7126\n",
      "Epoch 108/150\n",
      "52/52 [==============================] - 0s 680us/step - loss: 0.5183 - accuracy: 0.7549 - val_loss: 0.5677 - val_accuracy: 0.7244\n",
      "Epoch 109/150\n",
      "52/52 [==============================] - 0s 681us/step - loss: 0.5350 - accuracy: 0.7432 - val_loss: 0.5672 - val_accuracy: 0.7008\n",
      "Epoch 110/150\n",
      "52/52 [==============================] - 0s 677us/step - loss: 0.5207 - accuracy: 0.7374 - val_loss: 0.5670 - val_accuracy: 0.7087\n",
      "Epoch 111/150\n",
      "52/52 [==============================] - 0s 674us/step - loss: 0.5129 - accuracy: 0.7626 - val_loss: 0.5608 - val_accuracy: 0.7126\n",
      "Epoch 112/150\n",
      "52/52 [==============================] - 0s 672us/step - loss: 0.5158 - accuracy: 0.7510 - val_loss: 0.5511 - val_accuracy: 0.7165\n",
      "Epoch 113/150\n",
      "52/52 [==============================] - 0s 671us/step - loss: 0.5210 - accuracy: 0.7510 - val_loss: 0.5405 - val_accuracy: 0.7244\n",
      "Epoch 114/150\n",
      "52/52 [==============================] - 0s 672us/step - loss: 0.5349 - accuracy: 0.7354 - val_loss: 0.5671 - val_accuracy: 0.6969\n",
      "Epoch 115/150\n",
      "52/52 [==============================] - 0s 667us/step - loss: 0.5340 - accuracy: 0.7354 - val_loss: 0.5520 - val_accuracy: 0.7165\n",
      "Epoch 116/150\n",
      "52/52 [==============================] - 0s 679us/step - loss: 0.5324 - accuracy: 0.7374 - val_loss: 0.5628 - val_accuracy: 0.7441\n",
      "Epoch 117/150\n",
      "52/52 [==============================] - 0s 670us/step - loss: 0.5318 - accuracy: 0.7451 - val_loss: 0.5706 - val_accuracy: 0.7283\n",
      "Epoch 118/150\n",
      "52/52 [==============================] - 0s 662us/step - loss: 0.5385 - accuracy: 0.7296 - val_loss: 0.5382 - val_accuracy: 0.7205\n",
      "Epoch 119/150\n",
      "52/52 [==============================] - 0s 672us/step - loss: 0.5045 - accuracy: 0.7685 - val_loss: 0.5722 - val_accuracy: 0.7441\n",
      "Epoch 120/150\n",
      "52/52 [==============================] - 0s 674us/step - loss: 0.5145 - accuracy: 0.7451 - val_loss: 0.5446 - val_accuracy: 0.7244\n",
      "Epoch 121/150\n",
      "52/52 [==============================] - 0s 684us/step - loss: 0.5039 - accuracy: 0.7685 - val_loss: 0.5362 - val_accuracy: 0.7323\n",
      "Epoch 122/150\n",
      "52/52 [==============================] - 0s 674us/step - loss: 0.5225 - accuracy: 0.7510 - val_loss: 0.5323 - val_accuracy: 0.7362\n",
      "Epoch 123/150\n",
      "52/52 [==============================] - 0s 677us/step - loss: 0.5136 - accuracy: 0.7549 - val_loss: 0.5437 - val_accuracy: 0.7205\n",
      "Epoch 124/150\n",
      "52/52 [==============================] - 0s 668us/step - loss: 0.5093 - accuracy: 0.7646 - val_loss: 0.6288 - val_accuracy: 0.6693\n",
      "Epoch 125/150\n",
      "52/52 [==============================] - 0s 682us/step - loss: 0.5332 - accuracy: 0.7412 - val_loss: 0.5651 - val_accuracy: 0.7323\n",
      "Epoch 126/150\n",
      "52/52 [==============================] - 0s 687us/step - loss: 0.5525 - accuracy: 0.7101 - val_loss: 0.5558 - val_accuracy: 0.7126\n",
      "Epoch 127/150\n",
      "52/52 [==============================] - 0s 668us/step - loss: 0.5282 - accuracy: 0.7393 - val_loss: 0.5445 - val_accuracy: 0.7244\n",
      "Epoch 128/150\n",
      "52/52 [==============================] - 0s 680us/step - loss: 0.5131 - accuracy: 0.7393 - val_loss: 0.5307 - val_accuracy: 0.7402\n",
      "Epoch 129/150\n",
      "52/52 [==============================] - 0s 683us/step - loss: 0.5154 - accuracy: 0.7607 - val_loss: 0.5294 - val_accuracy: 0.7323\n",
      "Epoch 130/150\n",
      "52/52 [==============================] - 0s 675us/step - loss: 0.5285 - accuracy: 0.7374 - val_loss: 0.5911 - val_accuracy: 0.7205\n",
      "Epoch 131/150\n",
      "52/52 [==============================] - 0s 689us/step - loss: 0.5447 - accuracy: 0.7198 - val_loss: 0.5555 - val_accuracy: 0.7323\n",
      "Epoch 132/150\n",
      "52/52 [==============================] - 0s 692us/step - loss: 0.5325 - accuracy: 0.7432 - val_loss: 0.5246 - val_accuracy: 0.7441\n",
      "Epoch 133/150\n",
      "52/52 [==============================] - 0s 648us/step - loss: 0.5167 - accuracy: 0.7471 - val_loss: 0.5365 - val_accuracy: 0.7165\n",
      "Epoch 134/150\n",
      "52/52 [==============================] - 0s 675us/step - loss: 0.5080 - accuracy: 0.7568 - val_loss: 0.6606 - val_accuracy: 0.6024\n",
      "Epoch 135/150\n",
      "52/52 [==============================] - 0s 681us/step - loss: 0.5292 - accuracy: 0.7451 - val_loss: 0.5502 - val_accuracy: 0.7323\n",
      "Epoch 136/150\n",
      "52/52 [==============================] - 0s 673us/step - loss: 0.5073 - accuracy: 0.7529 - val_loss: 0.5223 - val_accuracy: 0.7402\n",
      "Epoch 137/150\n",
      "52/52 [==============================] - 0s 682us/step - loss: 0.5099 - accuracy: 0.7529 - val_loss: 0.5526 - val_accuracy: 0.7638\n",
      "Epoch 138/150\n",
      "52/52 [==============================] - 0s 667us/step - loss: 0.5136 - accuracy: 0.7276 - val_loss: 0.5830 - val_accuracy: 0.7441\n",
      "Epoch 139/150\n",
      "52/52 [==============================] - 0s 681us/step - loss: 0.5148 - accuracy: 0.7510 - val_loss: 0.5934 - val_accuracy: 0.6772\n",
      "Epoch 140/150\n",
      "52/52 [==============================] - 0s 686us/step - loss: 0.5069 - accuracy: 0.7646 - val_loss: 0.5468 - val_accuracy: 0.7559\n",
      "Epoch 141/150\n",
      "52/52 [==============================] - 0s 1ms/step - loss: 0.5013 - accuracy: 0.7510 - val_loss: 0.5687 - val_accuracy: 0.7047\n",
      "Epoch 142/150\n",
      "52/52 [==============================] - 0s 867us/step - loss: 0.4982 - accuracy: 0.7626 - val_loss: 0.5197 - val_accuracy: 0.7362\n",
      "Epoch 143/150\n",
      "52/52 [==============================] - 0s 687us/step - loss: 0.4913 - accuracy: 0.7685 - val_loss: 0.5318 - val_accuracy: 0.7283\n",
      "Epoch 144/150\n",
      "52/52 [==============================] - 0s 687us/step - loss: 0.5256 - accuracy: 0.7335 - val_loss: 0.5717 - val_accuracy: 0.7283\n",
      "Epoch 145/150\n",
      "52/52 [==============================] - 0s 672us/step - loss: 0.5100 - accuracy: 0.7704 - val_loss: 0.5170 - val_accuracy: 0.7362\n",
      "Epoch 146/150\n",
      "52/52 [==============================] - 0s 681us/step - loss: 0.5014 - accuracy: 0.7646 - val_loss: 0.5205 - val_accuracy: 0.7205\n",
      "Epoch 147/150\n",
      "52/52 [==============================] - 0s 681us/step - loss: 0.5200 - accuracy: 0.7588 - val_loss: 0.5786 - val_accuracy: 0.7008\n",
      "Epoch 148/150\n",
      "52/52 [==============================] - 0s 680us/step - loss: 0.5254 - accuracy: 0.7451 - val_loss: 0.5348 - val_accuracy: 0.7520\n",
      "Epoch 149/150\n",
      "52/52 [==============================] - 0s 666us/step - loss: 0.5067 - accuracy: 0.7568 - val_loss: 0.5476 - val_accuracy: 0.7362\n",
      "Epoch 150/150\n",
      "52/52 [==============================] - 0s 677us/step - loss: 0.5026 - accuracy: 0.7549 - val_loss: 0.5601 - val_accuracy: 0.7008\n",
      "24/24 [==============================] - 0s 362us/step - loss: 0.5174 - accuracy: 0.7435\n",
      "accuracy: 74.35%\n"
     ]
    }
   ],
   "source": [
    "# Create your first MLP in Keras\n",
    "from keras.models import Sequential\n",
    "from keras.layers import Dense\n",
    "import numpy\n",
    "import pandas as pd\n",
    "# fix random seed for reproducibility\n",
    "seed = 7\n",
    "numpy.random.seed(seed)\n",
    "# load pima indians dataset\n",
    "\n",
    "df = pd.read_csv(FILENAME)\n",
    "\n",
    "last_ix = len(df.columns)-1\n",
    "X, y = df.drop(df.columns[last_ix], axis=1), df[df.columns[last_ix]]\n",
    "\n",
    "# create model\n",
    "model = Sequential()\n",
    "model.add(Dense(12, input_dim=X.shape[1], activation= 'relu' ))\n",
    "model.add(Dense(8, activation= 'relu' ))\n",
    "model.add(Dense(1,activation= 'sigmoid' ))\n",
    "# Compile model\n",
    "model.compile(loss= 'binary_crossentropy' , optimizer= 'adam' , metrics=[ 'accuracy' ])\n",
    "# Fit the model\n",
    "model.fit(X, y, validation_split=0.33, epochs=150, batch_size=10)\n",
    "# evaluate the model\n",
    "scores = model.evaluate(X, y)\n",
    "print(\"%s: %.2f%%\" % (model.metrics_names[1], scores[1]*100))"
   ]
  }
 ],
 "metadata": {
  "kernelspec": {
   "display_name": "machine-learning-env",
   "language": "python",
   "name": "python3"
  },
  "language_info": {
   "codemirror_mode": {
    "name": "ipython",
    "version": 3
   },
   "file_extension": ".py",
   "mimetype": "text/x-python",
   "name": "python",
   "nbconvert_exporter": "python",
   "pygments_lexer": "ipython3",
   "version": "3.8.15"
  }
 },
 "nbformat": 4,
 "nbformat_minor": 2
}
